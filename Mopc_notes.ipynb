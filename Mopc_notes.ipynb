{
 "cells": [
  {
   "cell_type": "markdown",
   "metadata": {},
   "source": [
    "We want to first explore the function make_a_obs_profile_y in poc.py, it has fbeam intake, which is the interpolated beam profile. Thus very likely, it will convolve the beam with soem profile. "
   ]
  },
  {
   "cell_type": "code",
   "execution_count": null,
   "metadata": {},
   "outputs": [],
   "source": [
    "def make_a_obs_profile_y(thta_arc,M,z,theta_0,fbeam,ybeam):\n",
    "    rho = np.zeros(len(thta_arc))\n",
    "    pth = np.zeros(len(thta_arc))\n",
    "    for ii in range(len(thta_arc)):\n",
    "        temp = project_prof_beam_y(thta_arc[ii],M,z,theta_0,fbeam,ybeam)\n",
    "        rho[ii] = temp[0]\n",
    "        pth[ii] = temp[1]\n",
    "    return rho,pth"
   ]
  },
  {
   "cell_type": "markdown",
   "metadata": {},
   "source": [
    "Known from Stefania code: \n",
    "- *thta-arc -- very likely the degree range in arcmin\n",
    "- M -- M_200\n",
    "- z -- ofc\n",
    "- ***theta_0 -- tricky one, we know it takes 5 parameters, very unsure\n",
    "- fbeam -- interpolated beam in multipole expansioin, function looks like"
   ]
  },
  {
   "cell_type": "code",
   "execution_count": null,
   "metadata": {},
   "outputs": [],
   "source": [
    "def fBeamF_150(x):\n",
    "    return np.interp(x,ell,beam_150_ell) "
   ]
  },
  {
   "cell_type": "markdown",
   "metadata": {},
   "source": [
    "-  *ybeam -- likely the FWH of gaussian beam, but which one?\n",
    "-  rho -- is the gas density parameter of the GNFW profile.\n",
    "-  pth -- the pressure profile\n",
    "\n",
    "# now let's go explore the function project_prof_beam_y"
   ]
  },
  {
   "cell_type": "code",
   "execution_count": null,
   "metadata": {},
   "outputs": [
    {
     "ename": "",
     "evalue": "",
     "output_type": "error",
     "traceback": [
      "\u001b[1;31mRunning cells with 'Python 3.12.3' requires the ipykernel package.\n",
      "\u001b[1;31mRun the following command to install 'ipykernel' into the Python environment. \n",
      "\u001b[1;31mCommand: '/usr/local/bin/python3 -m pip install ipykernel -U --user --force-reinstall'"
     ]
    }
   ],
   "source": [
    "def project_prof_beam_y(tht,M,z,theta,f_beam,y_beam):\n",
    "    disc_fac = np.sqrt(2)\n",
    "    l0 = 30000.\n",
    "    NNR = 100\n",
    "    resolution_factor = 2.0\n",
    "    NNR2 = resolution_factor*NNR\n",
    "\n",
    "    fwhm = y_beam\n",
    "    fwhm *= np.pi / (180.*60.)\n",
    "    sigmaBeam = fwhm / np.sqrt(8.*np.log(2.))\n",
    "\n",
    "    #P0, rho0, x_f = theta2\n",
    "    #fstar = fstar_func(M)\n",
    "    theta_r = [theta[0],theta[1],theta[2],theta[3]]\n",
    "    theta_p = [theta[0],theta[1],theta[2],theta[4]]"
   ]
  },
  {
   "cell_type": "markdown",
   "metadata": {},
   "source": [
    "Known:\n",
    "- disc_fac is AP\n",
    "- *l0 is the size of beam ell? \n",
    "- *NNR: number of radial bins, and NNR2 is parametrized with resolution facor\n",
    "\n",
    "Equations: \n",
    "- converting beam from arcminute to radians amd sigma is the equation for standard deviation\n",
    "$$ \\text{FWHM} = y_{\\text{beam}} \\times \\frac{\\pi}{180 \\times 60}$$\n",
    "\n",
    "$$\\sigma_{\\text{Beam}} = \\frac{\\text{FWHM}}{\\sqrt{8 \\ln 2}} $$\n",
    "Questions are: \n",
    "- what y_beam fwhm do? the gaussian beam we convolved with?\n",
    "- $\\color{red}{\\text{Buggy!}}$ Theta _r which is for density profile and Theta_p (param for pressure) taking different values of theta_0 or theta array"
   ]
  },
  {
   "cell_type": "code",
   "execution_count": null,
   "metadata": {},
   "outputs": [
    {
     "ename": "",
     "evalue": "",
     "output_type": "error",
     "traceback": [
      "\u001b[1;31mRunning cells with 'Python 3.12.3' requires the ipykernel package.\n",
      "\u001b[1;31mRun the following command to install 'ipykernel' into the Python environment. \n",
      "\u001b[1;31mCommand: '/usr/local/bin/python3 -m pip install ipykernel -U --user --force-reinstall'"
     ]
    }
   ],
   "source": [
    "   AngDis = AngDist(z)\n",
    "\n",
    "    rvir = r200(M,z)/kpc_cgs/1e3 #in MPC\n",
    "    c = con(M,z)\n",
    "\n",
    "    r_ext = AngDis*np.arctan(np.radians(tht/60.))\n",
    "    r_ext2 = AngDis*np.arctan(np.radians(tht*disc_fac/60.))\n",
    "\n",
    "    rad = np.logspace(-3, 1, 200) #in MPC\n",
    "    rad2 = np.logspace(-3, 1, 200) #in MPC\n",
    "\n",
    "    radlim = r_ext\n",
    "    radlim2 = r_ext2\n",
    "\n",
    "    dtht = np.arctan(radlim/AngDis)/NNR # rads\n",
    "    dtht2 = np.arctan(radlim2/AngDis)/NNR # rads\n",
    "\n",
    "    thta = (np.arange(NNR) + 1.)*dtht\n",
    "    thta2 = (np.arange(NNR) + 1.)*dtht2\n",
    "\n",
    "    thta_smooth = (np.arange(NNR2) + 1.)*dtht/resolution_factor\n",
    "    thta2_smooth = (np.arange(NNR2) + 1.)*dtht2/resolution_factor"
   ]
  },
  {
   "cell_type": "markdown",
   "metadata": {},
   "source": [
    "- Calculating the viral radius and kpc_cgs is kpc in cm somehow \n",
    "$$ r_{\\text{vir}} = \\frac{r_{200}(M, z)}{1\\, \\text{kpc in cm}} \\times 10^{-3} \\, \\text{Mpc}\n",
    "$$\n",
    "con(M,z) is the function from obb.py returns concentration parameter from Duffy et al. (2008)\\\\\n",
    "r_ext and r_ext2 are the inner and outter AP physical size of the object. \n",
    "$$\n",
    "\\theta radian = \\text{tht} \\times \\frac{\\pi}{180 \\times 60} \\\\\n",
    "\n",
    "r_{\\text{ext}} = D_A(z) \\arctan(\\theta)    ~~~in Mpc\n",
    "$$\n",
    "$\\color{red}{\\text{Why arctan not tan? Using arctan means it converts from physical size of the object to the distance}}$\n",
    "\n",
    "- rad and rad2 are same size log space from e-3 to e1 also in physical distance Mpc\n",
    "- rad log space is bounded by r_ext and r_ext2 which is the AP ring of the galaxy\n",
    "- dtht and dtht2 are numerical steps for inner and outter bound in radians, smoothness defined by NNR\n",
    "$$ d\\theta = \\frac{\\arctan\\left( \\frac{r_{\\text{lim}}}{D_A(z)} \\right)}{NNR}\n",
    "$$\n",
    "- thta and thta2 are step x coordinates or index? start with 1\n",
    "- thta_smooth achieve the same nax and min of dtha list but the increment is proportional to 1/resolution factor.\n"
   ]
  },
  {
   "cell_type": "code",
   "execution_count": null,
   "metadata": {},
   "outputs": [],
   "source": []
  },
  {
   "cell_type": "code",
   "execution_count": 9,
   "metadata": {},
   "outputs": [
    {
     "data": {
      "text/plain": [
       "array([ 0.1,  0.2,  0.3,  0.4,  0.5,  0.6,  0.7,  0.8,  0.9,  1. ,  1.1,\n",
       "        1.2,  1.3,  1.4,  1.5,  1.6,  1.7,  1.8,  1.9,  2. ,  2.1,  2.2,\n",
       "        2.3,  2.4,  2.5,  2.6,  2.7,  2.8,  2.9,  3. ,  3.1,  3.2,  3.3,\n",
       "        3.4,  3.5,  3.6,  3.7,  3.8,  3.9,  4. ,  4.1,  4.2,  4.3,  4.4,\n",
       "        4.5,  4.6,  4.7,  4.8,  4.9,  5. ,  5.1,  5.2,  5.3,  5.4,  5.5,\n",
       "        5.6,  5.7,  5.8,  5.9,  6. ,  6.1,  6.2,  6.3,  6.4,  6.5,  6.6,\n",
       "        6.7,  6.8,  6.9,  7. ,  7.1,  7.2,  7.3,  7.4,  7.5,  7.6,  7.7,\n",
       "        7.8,  7.9,  8. ,  8.1,  8.2,  8.3,  8.4,  8.5,  8.6,  8.7,  8.8,\n",
       "        8.9,  9. ,  9.1,  9.2,  9.3,  9.4,  9.5,  9.6,  9.7,  9.8,  9.9,\n",
       "       10. , 10.1, 10.2, 10.3, 10.4, 10.5, 10.6, 10.7, 10.8, 10.9, 11. ,\n",
       "       11.1, 11.2, 11.3, 11.4, 11.5, 11.6, 11.7, 11.8, 11.9, 12. , 12.1,\n",
       "       12.2, 12.3, 12.4, 12.5, 12.6, 12.7, 12.8, 12.9, 13. , 13.1, 13.2,\n",
       "       13.3, 13.4, 13.5, 13.6, 13.7, 13.8, 13.9, 14. , 14.1, 14.2, 14.3,\n",
       "       14.4, 14.5, 14.6, 14.7, 14.8, 14.9, 15. , 15.1, 15.2, 15.3, 15.4,\n",
       "       15.5, 15.6, 15.7, 15.8, 15.9, 16. , 16.1, 16.2, 16.3, 16.4, 16.5,\n",
       "       16.6, 16.7, 16.8, 16.9, 17. , 17.1, 17.2, 17.3, 17.4, 17.5, 17.6,\n",
       "       17.7, 17.8, 17.9, 18. , 18.1, 18.2, 18.3, 18.4, 18.5, 18.6, 18.7,\n",
       "       18.8, 18.9, 19. , 19.1, 19.2, 19.3, 19.4, 19.5, 19.6, 19.7, 19.8,\n",
       "       19.9, 20. ])"
      ]
     },
     "execution_count": 9,
     "metadata": {},
     "output_type": "execute_result"
    }
   ],
   "source": [
    "import numpy as np \n",
    "bba = (np.arange(200) + 1.)*0.2/2\n",
    "bba"
   ]
  },
  {
   "cell_type": "code",
   "execution_count": 10,
   "metadata": {},
   "outputs": [],
   "source": [
    "abb = bba[:,None]"
   ]
  },
  {
   "cell_type": "code",
   "execution_count": 16,
   "metadata": {},
   "outputs": [
    {
     "ename": "IndexError",
     "evalue": "index 1 is out of bounds for axis 0 with size 1",
     "output_type": "error",
     "traceback": [
      "\u001b[0;31m---------------------------------------------------------------------------\u001b[0m",
      "\u001b[0;31mIndexError\u001b[0m                                Traceback (most recent call last)",
      "Cell \u001b[0;32mIn[16], line 1\u001b[0m\n\u001b[0;32m----> 1\u001b[0m \u001b[43mabb\u001b[49m\u001b[43m[\u001b[49m\u001b[38;5;241;43m1\u001b[39;49m\u001b[43m]\u001b[49m\u001b[43m[\u001b[49m\u001b[38;5;241;43m1\u001b[39;49m\u001b[43m]\u001b[49m\n",
      "\u001b[0;31mIndexError\u001b[0m: index 1 is out of bounds for axis 0 with size 1"
     ]
    }
   ],
   "source": [
    "abb[1]"
   ]
  },
  {
   "cell_type": "code",
   "execution_count": null,
   "metadata": {},
   "outputs": [],
   "source": []
  }
 ],
 "metadata": {
  "kernelspec": {
   "display_name": "Python 3",
   "language": "python",
   "name": "python3"
  },
  "language_info": {
   "codemirror_mode": {
    "name": "ipython",
    "version": 3
   },
   "file_extension": ".py",
   "mimetype": "text/x-python",
   "name": "python",
   "nbconvert_exporter": "python",
   "pygments_lexer": "ipython3",
   "version": "3.10.14"
  }
 },
 "nbformat": 4,
 "nbformat_minor": 2
}
